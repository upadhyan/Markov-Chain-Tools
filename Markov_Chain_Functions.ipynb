{
  "nbformat": 4,
  "nbformat_minor": 0,
  "metadata": {
    "colab": {
      "name": "Markov Chain Functions",
      "provenance": [],
      "authorship_tag": "ABX9TyM21ct+V4ZHaWqdpAwW7DWo",
      "include_colab_link": true
    },
    "kernelspec": {
      "name": "python3",
      "display_name": "Python 3"
    }
  },
  "cells": [
    {
      "cell_type": "markdown",
      "metadata": {
        "id": "view-in-github",
        "colab_type": "text"
      },
      "source": [
        "<a href=\"https://colab.research.google.com/github/upadhyan/Markov-Chain-Tools/blob/main/Markov_Chain_Functions.ipynb\" target=\"_parent\"><img src=\"https://colab.research.google.com/assets/colab-badge.svg\" alt=\"Open In Colab\"/></a>"
      ]
    },
    {
      "cell_type": "code",
      "metadata": {
        "id": "1XzR4MHRvHzf"
      },
      "source": [
        "import numpy as np\n",
        "## Expected Number of visits in n days\n",
        "## For all of these, assume indexes starting @ 1, not zero\n",
        "def expected_number_regular(transition, n):\n",
        "  base = np.zeros((len(transition), len(transition)))\n",
        "  for i in range(1,n + 1):\n",
        "    base = base + np.linalg.matrix_power(transition, i)\n",
        "  return base\n",
        "\n",
        "def steady_state_solver(transition):\n",
        "  transition = transition.transpose()\n",
        "  n = len(transition)\n",
        "  transition = transition - np.identity(n)\n",
        "  transition[n-1,:] = np.ones(n)\n",
        "  solution = np.zeros((n, 1))\n",
        "  solution[n - 1] = 1\n",
        "  x = np.linalg.solve(transition, solution)\n",
        "  return x\n",
        "\n",
        "def mean_soujourn_time(transition, i):\n",
        "    p_ii = transition[i-1,i-1]\n",
        "    return 1 / (1- p_ii)\n",
        "\n",
        "def soujourn_probability(transition, i, k):\n",
        "  p_ii = transition[i-1,i-1]\n",
        "  return (p_ii)**(k-1) * (1-p_ii)\n",
        "\n",
        "def mean_first_passage_time(transition, to):\n",
        "  #to the what state r u trying to find the mean passage time too\n",
        "  l = len(transition) - 1\n",
        "  p_star = np.delete(transition, to - 1, 0)\n",
        "  p_star = np.delete(p_star, to - 1, 1)\n",
        "  print(p_star)\n",
        "  p_star = p_star - np.identity(l)\n",
        "  solution = -1 * np.ones(l)\n",
        "  x = np.linalg.solve(p_star, solution)\n",
        "  return x\n",
        "\n",
        "def mean_recurrence_time(transition, i):\n",
        "  steady_state = steady_state_solver(transition)\n",
        "  return 1 / (steady_state[i - 1])\n",
        "\n",
        "def expected_visits_terminating(transition, num_transient):\n",
        "  Q = transition\n",
        "  dropped_rows = range(num_transient, len(transition))\n",
        "  Q = np.delete(Q, np.array(dropped_rows), 1)\n",
        "  Q = np.delete(Q, np.array(dropped_rows), 0)\n",
        "  E = np.linalg.inv(np.identity(len(Q)) - Q)\n",
        "  return E\n",
        "\n",
        "def duration_terminating(transition, num_transient):\n",
        "  E = expected_visits_terminating(transition, num_transient)\n",
        "  return np.matmul(E, np.ones((len(E), 1)))\n",
        "\n",
        "def absorbtion_probability(transition, num_transient):\n",
        "  E = expected_visits_terminating(transition, num_transient)\n",
        "  dropped_col = range(0, num_transient)\n",
        "  dropped_rows = range(num_transient, len(transition))\n",
        "  R = np.delete(transition, np.array(dropped_col), 1)\n",
        "  R = np.delete(R, np.array(dropped_rows), 0)\n",
        "  return np.matmul(E, R)\n",
        "def hit_probability(transition, num_transient, j):\n",
        "  dropped_rows = range(num_transient, len(transition))\n",
        "  Q = transition\n",
        "  Q = np.delete(Q, np.array(dropped_rows), 1)\n",
        "  Q = np.delete(Q, np.array(dropped_rows), 0)\n",
        "  Q = np.delete(Q, j - 1, 0)\n",
        "  solution = -1 * Q[:, j - 1]\n",
        "  Q = np.delete(Q, j - 1, 1)\n",
        "  print(solution)\n",
        "  print(Q)\n",
        "  Q_star = Q - np.identity(len(Q))\n",
        "  f = np.linalg.solve(Q_star, solution)\n",
        "  return f"
      ],
      "execution_count": null,
      "outputs": []
    },
    {
      "cell_type": "code",
      "metadata": {
        "colab": {
          "base_uri": "https://localhost:8080/"
        },
        "id": "QvmLFU-Z_jPu",
        "outputId": "c87259f5-f662-429a-c397-8c5a67bfb1df"
      },
      "source": [
        "transition = np.array([[.25,.50,.25],\n",
        "                       [.30,.60,.10],\n",
        "                       [0,1,0]])\n",
        "#absorbtion_probability(transition, 2)\n",
        "steady_state_solver(transition)"
      ],
      "execution_count": null,
      "outputs": [
        {
          "output_type": "execute_result",
          "data": {
            "text/plain": [
              "array([[0.25 ],\n",
              "       [0.625],\n",
              "       [0.125]])"
            ]
          },
          "metadata": {
            "tags": []
          },
          "execution_count": 37
        }
      ]
    },
    {
      "cell_type": "code",
      "metadata": {
        "colab": {
          "base_uri": "https://localhost:8080/"
        },
        "id": "m_qObMWr6D3Y",
        "outputId": "86ddaf71-b8e3-4676-cec0-82f918b71d7f"
      },
      "source": [
        "E = np.array([[1,0.71,1.14],\n",
        "              [0,1.29,0.86],\n",
        "              [0,0.43,1.29]])\n",
        "Q = np.identity(3) - np.linalg.inv(E) \n",
        "Q"
      ],
      "execution_count": null,
      "outputs": [
        {
          "output_type": "execute_result",
          "data": {
            "text/plain": [
              "array([[0.        , 0.32890365, 0.66445183],\n",
              "       [0.        , 0.00332226, 0.66445183],\n",
              "       [0.        , 0.33222591, 0.00332226]])"
            ]
          },
          "metadata": {
            "tags": []
          },
          "execution_count": 38
        }
      ]
    }
  ]
}